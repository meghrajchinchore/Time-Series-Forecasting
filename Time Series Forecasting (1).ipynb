{
 "cells": [
  {
   "cell_type": "code",
   "execution_count": 1,
   "metadata": {},
   "outputs": [],
   "source": [
    "### Data Collection\n",
    "import pandas as pd\n",
    "import yfinance as yf\n",
    "import matplotlib.pyplot as plt\n",
    "import numpy as np\n",
    "from sklearn.preprocessing import MinMaxScaler\n",
    "import numpy\n",
    "from numpy import array\n",
    "from tensorflow.keras.models import Sequential\n",
    "from tensorflow.keras.layers import Dense\n",
    "from tensorflow.keras.layers import LSTM\n",
    "import tensorflow as tf\n",
    "import math\n",
    "from sklearn.metrics import mean_squared_error"
   ]
  },
  {
   "cell_type": "code",
   "execution_count": 2,
   "metadata": {},
   "outputs": [
    {
     "data": {
      "text/html": [
       "<div>\n",
       "<style scoped>\n",
       "    .dataframe tbody tr th:only-of-type {\n",
       "        vertical-align: middle;\n",
       "    }\n",
       "\n",
       "    .dataframe tbody tr th {\n",
       "        vertical-align: top;\n",
       "    }\n",
       "\n",
       "    .dataframe thead th {\n",
       "        text-align: right;\n",
       "    }\n",
       "</style>\n",
       "<table border=\"1\" class=\"dataframe\">\n",
       "  <thead>\n",
       "    <tr style=\"text-align: right;\">\n",
       "      <th></th>\n",
       "      <th>Date</th>\n",
       "      <th>Open</th>\n",
       "      <th>High</th>\n",
       "      <th>Low</th>\n",
       "      <th>Close</th>\n",
       "      <th>Volume</th>\n",
       "      <th>Dividends</th>\n",
       "      <th>Stock Splits</th>\n",
       "    </tr>\n",
       "  </thead>\n",
       "  <tbody>\n",
       "    <tr>\n",
       "      <th>0</th>\n",
       "      <td>2001-01-01 00:00:00+05:30</td>\n",
       "      <td>13.099957</td>\n",
       "      <td>13.387609</td>\n",
       "      <td>12.934136</td>\n",
       "      <td>13.198098</td>\n",
       "      <td>11237186</td>\n",
       "      <td>0.0</td>\n",
       "      <td>0.0</td>\n",
       "    </tr>\n",
       "    <tr>\n",
       "      <th>1</th>\n",
       "      <td>2001-01-02 00:00:00+05:30</td>\n",
       "      <td>13.374070</td>\n",
       "      <td>14.145651</td>\n",
       "      <td>13.208248</td>\n",
       "      <td>13.929067</td>\n",
       "      <td>21367159</td>\n",
       "      <td>0.0</td>\n",
       "      <td>0.0</td>\n",
       "    </tr>\n",
       "    <tr>\n",
       "      <th>2</th>\n",
       "      <td>2001-01-03 00:00:00+05:30</td>\n",
       "      <td>13.942603</td>\n",
       "      <td>14.920614</td>\n",
       "      <td>13.881688</td>\n",
       "      <td>14.707415</td>\n",
       "      <td>59167521</td>\n",
       "      <td>0.0</td>\n",
       "      <td>0.0</td>\n",
       "    </tr>\n",
       "    <tr>\n",
       "      <th>3</th>\n",
       "      <td>2001-01-04 00:00:00+05:30</td>\n",
       "      <td>14.781865</td>\n",
       "      <td>14.957840</td>\n",
       "      <td>14.162570</td>\n",
       "      <td>14.392691</td>\n",
       "      <td>29457229</td>\n",
       "      <td>0.0</td>\n",
       "      <td>0.0</td>\n",
       "    </tr>\n",
       "    <tr>\n",
       "      <th>4</th>\n",
       "      <td>2001-01-05 00:00:00+05:30</td>\n",
       "      <td>14.396073</td>\n",
       "      <td>14.781863</td>\n",
       "      <td>14.257323</td>\n",
       "      <td>14.548358</td>\n",
       "      <td>29628333</td>\n",
       "      <td>0.0</td>\n",
       "      <td>0.0</td>\n",
       "    </tr>\n",
       "  </tbody>\n",
       "</table>\n",
       "</div>"
      ],
      "text/plain": [
       "                       Date       Open       High        Low      Close   \n",
       "0 2001-01-01 00:00:00+05:30  13.099957  13.387609  12.934136  13.198098  \\\n",
       "1 2001-01-02 00:00:00+05:30  13.374070  14.145651  13.208248  13.929067   \n",
       "2 2001-01-03 00:00:00+05:30  13.942603  14.920614  13.881688  14.707415   \n",
       "3 2001-01-04 00:00:00+05:30  14.781865  14.957840  14.162570  14.392691   \n",
       "4 2001-01-05 00:00:00+05:30  14.396073  14.781863  14.257323  14.548358   \n",
       "\n",
       "     Volume  Dividends  Stock Splits  \n",
       "0  11237186        0.0           0.0  \n",
       "1  21367159        0.0           0.0  \n",
       "2  59167521        0.0           0.0  \n",
       "3  29457229        0.0           0.0  \n",
       "4  29628333        0.0           0.0  "
      ]
     },
     "execution_count": 2,
     "metadata": {},
     "output_type": "execute_result"
    }
   ],
   "source": [
    "df = yf.Ticker('SBIN.NS').history(start=\"2001-01-01\", end=\"2023-07-18\")\n",
    "df = df.reset_index()\n",
    "df.head()"
   ]
  },
  {
   "cell_type": "code",
   "execution_count": 3,
   "metadata": {},
   "outputs": [
    {
     "data": {
      "text/plain": [
       "0        13.198098\n",
       "1        13.929067\n",
       "2        14.707415\n",
       "3        14.392691\n",
       "4        14.548358\n",
       "           ...    \n",
       "5614    588.549988\n",
       "5615    589.250000\n",
       "5616    585.650024\n",
       "5617    584.400024\n",
       "5618    601.099976\n",
       "Name: Close, Length: 5619, dtype: float64"
      ]
     },
     "execution_count": 3,
     "metadata": {},
     "output_type": "execute_result"
    }
   ],
   "source": [
    "df1=df.reset_index()['Close']\n",
    "df1"
   ]
  },
  {
   "cell_type": "code",
   "execution_count": 4,
   "metadata": {},
   "outputs": [
    {
     "data": {
      "text/plain": [
       "[<matplotlib.lines.Line2D at 0x266a8d9c670>]"
      ]
     },
     "execution_count": 4,
     "metadata": {},
     "output_type": "execute_result"
    },
    {
     "data": {
      "image/png": "[encoded data removed]",
      "text/plain": [
       "<Figure size 432x288 with 1 Axes>"
      ]
     },
     "metadata": {
      "needs_background": "light"
     },
     "output_type": "display_data"
    }
   ],
   "source": [
    "plt.plot(df1)"
   ]
  },
  {
   "cell_type": "code",
   "execution_count": 5,
   "metadata": {},
   "outputs": [
    {
     "name": "stdout",
     "output_type": "stream",
     "text": [
      "[[0.00562865]\n",
      " [0.00683931]\n",
      " [0.00812844]\n",
      " ...\n",
      " [0.95374677]\n",
      " [0.95167647]\n",
      " [0.97933561]]\n"
     ]
    }
   ],
   "source": [
    "scaler=MinMaxScaler(feature_range=(0,1))\n",
    "df1=scaler.fit_transform(np.array(df1).reshape(-1,1))\n",
    "print(df1)"
   ]
  },
  {
   "cell_type": "code",
   "execution_count": 6,
   "metadata": {},
   "outputs": [],
   "source": [
    "training_size=int(len(df1)*0.65)\n",
    "test_size=len(df1)-training_size\n",
    "train_data,test_data=df1[0:training_size,:],df1[training_size:len(df1),:1]"
   ]
  },
  {
   "cell_type": "code",
   "execution_count": 7,
   "metadata": {},
   "outputs": [
    {
     "data": {
      "text/plain": [
       "(3652, 1967)"
      ]
     },
     "execution_count": 7,
     "metadata": {},
     "output_type": "execute_result"
    }
   ],
   "source": [
    "training_size,test_size"
   ]
  },
  {
   "cell_type": "code",
   "execution_count": 8,
   "metadata": {},
   "outputs": [],
   "source": [
    "def create_dataset(dataset, time_step=1):\n",
    "    dataX, dataY = [], []\n",
    "    for i in range(len(dataset)-time_step-1):\n",
    "        a = dataset[i:(i+time_step), 0]   ###i=0, 0,1,2,3-----99   100 \n",
    "        dataX.append(a)\n",
    "        dataY.append(dataset[i + time_step, 0])\n",
    "    return numpy.array(dataX), numpy.array(dataY)"
   ]
  },
  {
   "cell_type": "code",
   "execution_count": 9,
   "metadata": {},
   "outputs": [],
   "source": [
    "time_step = 100\n",
    "X_train, y_train = create_dataset(train_data, time_step)\n",
    "X_test, ytest = create_dataset(test_data, time_step)"
   ]
  },
  {
   "cell_type": "code",
   "execution_count": 10,
   "metadata": {},
   "outputs": [
    {
     "name": "stdout",
     "output_type": "stream",
     "text": [
      "(3551, 100)\n",
      "(3551,)\n"
     ]
    },
    {
     "data": {
      "text/plain": [
       "(None, None)"
      ]
     },
     "execution_count": 10,
     "metadata": {},
     "output_type": "execute_result"
    }
   ],
   "source": [
    "print(X_train.shape), print(y_train.shape)"
   ]
  },
  {
   "cell_type": "code",
   "execution_count": 11,
   "metadata": {},
   "outputs": [
    {
     "name": "stdout",
     "output_type": "stream",
     "text": [
      "(1866, 100)\n",
      "(1866,)\n"
     ]
    },
    {
     "data": {
      "text/plain": [
       "(None, None)"
      ]
     },
     "execution_count": 11,
     "metadata": {},
     "output_type": "execute_result"
    }
   ],
   "source": [
    "print(X_test.shape), print(ytest.shape)"
   ]
  },
  {
   "cell_type": "code",
   "execution_count": 12,
   "metadata": {},
   "outputs": [],
   "source": [
    "X_train =X_train.reshape(X_train.shape[0],X_train.shape[1] , 1)\n",
    "X_test = X_test.reshape(X_test.shape[0],X_test.shape[1] , 1)"
   ]
  },
  {
   "cell_type": "code",
   "execution_count": 13,
   "metadata": {},
   "outputs": [],
   "source": [
    "model=Sequential()\n",
    "model.add(LSTM(50,return_sequences=True,input_shape=(100,1)))\n",
    "model.add(LSTM(50,return_sequences=True))\n",
    "model.add(LSTM(50))\n",
    "model.add(Dense(1))\n",
    "model.compile(loss='mean_squared_error',optimizer='adam')"
   ]
  },
  {
   "cell_type": "code",
   "execution_count": 14,
   "metadata": {},
   "outputs": [
    {
     "name": "stdout",
     "output_type": "stream",
     "text": [
      "Model: \"sequential\"\n",
      "_________________________________________________________________\n",
      " Layer (type)                Output Shape              Param #   \n",
      "=================================================================\n",
      " lstm (LSTM)                 (None, 100, 50)           10400     \n",
      "                                                                 \n",
      " lstm_1 (LSTM)               (None, 100, 50)           20200     \n",
      "                                                                 \n",
      " lstm_2 (LSTM)               (None, 50)                20200     \n",
      "                                                                 \n",
      " dense (Dense)               (None, 1)                 51        \n",
      "                                                                 \n",
      "=================================================================\n",
      "Total params: 50851 (198.64 KB)\n",
      "Trainable params: 50851 (198.64 KB)\n",
      "Non-trainable params: 0 (0.00 Byte)\n",
      "_________________________________________________________________\n"
     ]
    }
   ],
   "source": [
    "model.summary()"
   ]
  },
  {
   "cell_type": "code",
   "execution_count": 15,
   "metadata": {},
   "outputs": [
    {
     "name": "stdout",
     "output_type": "stream",
     "text": [
      "Model: \"sequential\"\n",
      "_________________________________________________________________\n",
      " Layer (type)                Output Shape              Param #   \n",
      "=================================================================\n",
      " lstm (LSTM)                 (None, 100, 50)           10400     \n",
      "                                                                 \n",
      " lstm_1 (LSTM)               (None, 100, 50)           20200     \n",
      "                                                                 \n",
      " lstm_2 (LSTM)               (None, 50)                20200     \n",
      "                                                                 \n",
      " dense (Dense)               (None, 1)                 51        \n",
      "                                                                 \n",
      "=================================================================\n",
      "Total params: 50851 (198.64 KB)\n",
      "Trainable params: 50851 (198.64 KB)\n",
      "Non-trainable params: 0 (0.00 Byte)\n",
      "_________________________________________________________________\n"
     ]
    }
   ],
   "source": [
    "model.summary()"
   ]
  },
  {
   "cell_type": "code",
   "execution_count": 16,
   "metadata": {},
   "outputs": [
    {
     "name": "stdout",
     "output_type": "stream",
     "text": [
      "Epoch 1/100\n",
      "56/56 [==============================] - 11s 129ms/step - loss: 0.0039 - val_loss: 0.0035\n",
      "Epoch 2/100\n",
      "56/56 [==============================] - 7s 118ms/step - loss: 2.9565e-04 - val_loss: 0.0027\n",
      "Epoch 3/100\n",
      "56/56 [==============================] - 8s 142ms/step - loss: 2.7282e-04 - val_loss: 0.0027\n",
      "Epoch 4/100\n",
      "56/56 [==============================] - 7s 121ms/step - loss: 2.5726e-04 - val_loss: 0.0026\n",
      "Epoch 5/100\n",
      "56/56 [==============================] - 7s 121ms/step - loss: 2.4137e-04 - val_loss: 0.0021\n",
      "Epoch 6/100\n",
      "56/56 [==============================] - 7s 125ms/step - loss: 2.2882e-04 - val_loss: 0.0020\n",
      "Epoch 7/100\n",
      "56/56 [==============================] - 7s 118ms/step - loss: 2.1735e-04 - val_loss: 0.0025\n",
      "Epoch 8/100\n",
      "56/56 [==============================] - 7s 134ms/step - loss: 2.0458e-04 - val_loss: 0.0019\n",
      "Epoch 9/100\n",
      "56/56 [==============================] - 7s 131ms/step - loss: 1.8692e-04 - val_loss: 0.0015\n",
      "Epoch 10/100\n",
      "56/56 [==============================] - 7s 124ms/step - loss: 1.9430e-04 - val_loss: 0.0014\n",
      "Epoch 11/100\n",
      "56/56 [==============================] - 7s 125ms/step - loss: 1.7491e-04 - val_loss: 7.6379e-04\n",
      "Epoch 12/100\n",
      "56/56 [==============================] - 7s 123ms/step - loss: 1.6627e-04 - val_loss: 7.6901e-04\n",
      "Epoch 13/100\n",
      "56/56 [==============================] - 7s 125ms/step - loss: 1.6721e-04 - val_loss: 6.6771e-04\n",
      "Epoch 14/100\n",
      "56/56 [==============================] - 7s 123ms/step - loss: 1.6553e-04 - val_loss: 6.9687e-04\n",
      "Epoch 15/100\n",
      "56/56 [==============================] - 7s 122ms/step - loss: 1.8170e-04 - val_loss: 7.6863e-04\n",
      "Epoch 16/100\n",
      "56/56 [==============================] - 7s 129ms/step - loss: 1.7228e-04 - val_loss: 5.9365e-04\n",
      "Epoch 17/100\n",
      "56/56 [==============================] - 7s 130ms/step - loss: 1.4952e-04 - val_loss: 6.6445e-04\n",
      "Epoch 18/100\n",
      "56/56 [==============================] - 7s 130ms/step - loss: 1.4219e-04 - val_loss: 9.1538e-04\n",
      "Epoch 19/100\n",
      "56/56 [==============================] - 8s 139ms/step - loss: 1.3901e-04 - val_loss: 5.2589e-04\n",
      "Epoch 20/100\n",
      "56/56 [==============================] - 8s 138ms/step - loss: 1.4683e-04 - val_loss: 5.7229e-04\n",
      "Epoch 21/100\n",
      "56/56 [==============================] - 8s 150ms/step - loss: 1.4641e-04 - val_loss: 4.6796e-04\n",
      "Epoch 22/100\n",
      "56/56 [==============================] - 7s 132ms/step - loss: 1.3836e-04 - val_loss: 5.7427e-04\n",
      "Epoch 23/100\n",
      "56/56 [==============================] - 7s 134ms/step - loss: 1.4043e-04 - val_loss: 4.7675e-04\n",
      "Epoch 24/100\n",
      "56/56 [==============================] - 8s 134ms/step - loss: 1.2210e-04 - val_loss: 5.0890e-04\n",
      "Epoch 25/100\n",
      "56/56 [==============================] - 8s 136ms/step - loss: 1.2143e-04 - val_loss: 4.1934e-04\n",
      "Epoch 26/100\n",
      "56/56 [==============================] - 8s 136ms/step - loss: 1.2223e-04 - val_loss: 4.8256e-04\n",
      "Epoch 27/100\n",
      "56/56 [==============================] - 7s 133ms/step - loss: 1.2534e-04 - val_loss: 6.7169e-04\n",
      "Epoch 28/100\n",
      "56/56 [==============================] - 8s 139ms/step - loss: 1.1258e-04 - val_loss: 3.6031e-04\n",
      "Epoch 29/100\n",
      "56/56 [==============================] - 8s 142ms/step - loss: 1.0767e-04 - val_loss: 3.4146e-04\n",
      "Epoch 30/100\n",
      "56/56 [==============================] - 8s 145ms/step - loss: 9.9284e-05 - val_loss: 4.4499e-04\n",
      "Epoch 31/100\n",
      "56/56 [==============================] - 8s 136ms/step - loss: 9.7460e-05 - val_loss: 5.2443e-04\n",
      "Epoch 32/100\n",
      "56/56 [==============================] - 8s 145ms/step - loss: 1.0797e-04 - val_loss: 6.9562e-04\n",
      "Epoch 33/100\n",
      "56/56 [==============================] - 8s 143ms/step - loss: 9.3141e-05 - val_loss: 3.6983e-04\n",
      "Epoch 34/100\n",
      "56/56 [==============================] - 7s 127ms/step - loss: 8.7786e-05 - val_loss: 6.0624e-04\n",
      "Epoch 35/100\n",
      "56/56 [==============================] - 7s 127ms/step - loss: 8.5029e-05 - val_loss: 3.1593e-04\n",
      "Epoch 36/100\n",
      "56/56 [==============================] - 7s 126ms/step - loss: 7.9472e-05 - val_loss: 3.9413e-04\n",
      "Epoch 37/100\n",
      "56/56 [==============================] - 7s 125ms/step - loss: 8.3990e-05 - val_loss: 3.0952e-04\n",
      "Epoch 38/100\n",
      "56/56 [==============================] - 7s 128ms/step - loss: 7.8985e-05 - val_loss: 5.0989e-04\n",
      "Epoch 39/100\n",
      "56/56 [==============================] - 7s 128ms/step - loss: 6.9583e-05 - val_loss: 6.4724e-04\n",
      "Epoch 40/100\n",
      "56/56 [==============================] - 7s 124ms/step - loss: 7.2885e-05 - val_loss: 2.9101e-04\n",
      "Epoch 41/100\n",
      "56/56 [==============================] - 7s 132ms/step - loss: 6.8302e-05 - val_loss: 2.9166e-04\n",
      "Epoch 42/100\n",
      "56/56 [==============================] - 7s 133ms/step - loss: 6.6009e-05 - val_loss: 2.7347e-04\n",
      "Epoch 43/100\n",
      "56/56 [==============================] - 8s 135ms/step - loss: 6.6497e-05 - val_loss: 3.3873e-04\n",
      "Epoch 44/100\n",
      "56/56 [==============================] - 7s 127ms/step - loss: 6.7415e-05 - val_loss: 2.8533e-04\n",
      "Epoch 45/100\n",
      "56/56 [==============================] - 7s 131ms/step - loss: 6.3551e-05 - val_loss: 2.7053e-04\n",
      "Epoch 46/100\n",
      "56/56 [==============================] - 7s 134ms/step - loss: 6.2886e-05 - val_loss: 4.6309e-04\n",
      "Epoch 47/100\n",
      "56/56 [==============================] - 7s 130ms/step - loss: 6.2229e-05 - val_loss: 4.3651e-04\n",
      "Epoch 48/100\n",
      "56/56 [==============================] - 7s 125ms/step - loss: 5.6429e-05 - val_loss: 2.9691e-04\n",
      "Epoch 49/100\n",
      "56/56 [==============================] - 7s 128ms/step - loss: 5.6507e-05 - val_loss: 2.6537e-04\n",
      "Epoch 50/100\n",
      "56/56 [==============================] - 7s 131ms/step - loss: 5.4264e-05 - val_loss: 3.4466e-04\n",
      "Epoch 51/100\n",
      "56/56 [==============================] - 7s 130ms/step - loss: 5.0156e-05 - val_loss: 3.8487e-04\n",
      "Epoch 52/100\n",
      "56/56 [==============================] - 7s 129ms/step - loss: 5.3386e-05 - val_loss: 5.5542e-04\n",
      "Epoch 53/100\n",
      "56/56 [==============================] - 7s 128ms/step - loss: 4.9360e-05 - val_loss: 2.6411e-04\n",
      "Epoch 54/100\n",
      "56/56 [==============================] - 8s 134ms/step - loss: 5.1787e-05 - val_loss: 3.1568e-04\n",
      "Epoch 55/100\n",
      "56/56 [==============================] - 8s 146ms/step - loss: 5.5000e-05 - val_loss: 2.0828e-04\n",
      "Epoch 56/100\n",
      "56/56 [==============================] - 8s 142ms/step - loss: 4.5643e-05 - val_loss: 1.9185e-04\n",
      "Epoch 57/100\n",
      "56/56 [==============================] - 7s 129ms/step - loss: 5.1532e-05 - val_loss: 2.1471e-04\n",
      "Epoch 58/100\n",
      "56/56 [==============================] - 8s 137ms/step - loss: 5.0867e-05 - val_loss: 5.2254e-04\n",
      "Epoch 59/100\n",
      "56/56 [==============================] - 7s 133ms/step - loss: 4.5803e-05 - val_loss: 1.7815e-04\n",
      "Epoch 60/100\n",
      "56/56 [==============================] - 7s 129ms/step - loss: 5.1526e-05 - val_loss: 1.7099e-04\n",
      "Epoch 61/100\n",
      "56/56 [==============================] - 7s 131ms/step - loss: 4.0750e-05 - val_loss: 2.7159e-04\n",
      "Epoch 62/100\n",
      "56/56 [==============================] - 7s 129ms/step - loss: 5.4329e-05 - val_loss: 1.8020e-04\n",
      "Epoch 63/100\n",
      "56/56 [==============================] - 7s 128ms/step - loss: 4.1347e-05 - val_loss: 2.0916e-04\n",
      "Epoch 64/100\n",
      "56/56 [==============================] - 7s 132ms/step - loss: 3.9545e-05 - val_loss: 2.3306e-04\n",
      "Epoch 65/100\n",
      "56/56 [==============================] - 7s 132ms/step - loss: 4.1946e-05 - val_loss: 1.7346e-04\n",
      "Epoch 66/100\n",
      "56/56 [==============================] - 8s 136ms/step - loss: 4.1943e-05 - val_loss: 1.6805e-04\n",
      "Epoch 67/100\n",
      "56/56 [==============================] - 7s 128ms/step - loss: 4.4830e-05 - val_loss: 1.5312e-04\n",
      "Epoch 68/100\n",
      "56/56 [==============================] - 7s 130ms/step - loss: 3.8167e-05 - val_loss: 3.1625e-04\n",
      "Epoch 69/100\n",
      "56/56 [==============================] - 7s 128ms/step - loss: 3.9800e-05 - val_loss: 1.6052e-04\n",
      "Epoch 70/100\n",
      "56/56 [==============================] - 7s 134ms/step - loss: 3.8170e-05 - val_loss: 1.5649e-04\n",
      "Epoch 71/100\n",
      "56/56 [==============================] - 7s 129ms/step - loss: 3.5303e-05 - val_loss: 1.5467e-04\n",
      "Epoch 72/100\n",
      "56/56 [==============================] - 7s 128ms/step - loss: 4.1974e-05 - val_loss: 1.4614e-04\n",
      "Epoch 73/100\n",
      "56/56 [==============================] - 7s 127ms/step - loss: 3.8036e-05 - val_loss: 1.5790e-04\n",
      "Epoch 74/100\n",
      "56/56 [==============================] - 7s 125ms/step - loss: 3.5581e-05 - val_loss: 1.4464e-04\n",
      "Epoch 75/100\n",
      "56/56 [==============================] - 7s 128ms/step - loss: 3.5569e-05 - val_loss: 1.7415e-04\n",
      "Epoch 76/100\n",
      "56/56 [==============================] - 7s 126ms/step - loss: 4.1004e-05 - val_loss: 1.7955e-04\n",
      "Epoch 77/100\n",
      "56/56 [==============================] - 7s 126ms/step - loss: 4.4429e-05 - val_loss: 1.4754e-04\n",
      "Epoch 78/100\n",
      "56/56 [==============================] - 7s 127ms/step - loss: 3.6608e-05 - val_loss: 1.4593e-04\n",
      "Epoch 79/100\n",
      "56/56 [==============================] - 7s 128ms/step - loss: 3.5201e-05 - val_loss: 1.6403e-04\n",
      "Epoch 80/100\n",
      "56/56 [==============================] - 7s 128ms/step - loss: 3.2701e-05 - val_loss: 1.7505e-04\n",
      "Epoch 81/100\n",
      "56/56 [==============================] - 7s 126ms/step - loss: 4.2227e-05 - val_loss: 1.4775e-04\n",
      "Epoch 82/100\n",
      "56/56 [==============================] - 7s 124ms/step - loss: 3.2661e-05 - val_loss: 1.3907e-04\n",
      "Epoch 83/100\n",
      "56/56 [==============================] - 7s 125ms/step - loss: 3.6337e-05 - val_loss: 1.4126e-04\n",
      "Epoch 84/100\n",
      "56/56 [==============================] - 7s 127ms/step - loss: 3.6790e-05 - val_loss: 1.3666e-04\n",
      "Epoch 85/100\n",
      "56/56 [==============================] - 7s 124ms/step - loss: 3.8613e-05 - val_loss: 1.4043e-04\n",
      "Epoch 86/100\n",
      "56/56 [==============================] - 7s 124ms/step - loss: 3.7413e-05 - val_loss: 1.4720e-04\n",
      "Epoch 87/100\n",
      "56/56 [==============================] - 7s 126ms/step - loss: 3.3576e-05 - val_loss: 1.6156e-04\n",
      "Epoch 88/100\n",
      "56/56 [==============================] - 7s 131ms/step - loss: 3.8221e-05 - val_loss: 2.6533e-04\n",
      "Epoch 89/100\n",
      "56/56 [==============================] - 8s 136ms/step - loss: 4.2396e-05 - val_loss: 2.4418e-04\n",
      "Epoch 90/100\n",
      "56/56 [==============================] - 7s 132ms/step - loss: 3.3842e-05 - val_loss: 1.6866e-04\n",
      "Epoch 91/100\n",
      "56/56 [==============================] - 7s 127ms/step - loss: 3.1866e-05 - val_loss: 1.4093e-04\n",
      "Epoch 92/100\n",
      "56/56 [==============================] - 8s 134ms/step - loss: 3.4017e-05 - val_loss: 1.4046e-04\n",
      "Epoch 93/100\n",
      "56/56 [==============================] - 7s 129ms/step - loss: 3.2422e-05 - val_loss: 1.4547e-04\n",
      "Epoch 94/100\n",
      "56/56 [==============================] - 7s 128ms/step - loss: 3.2610e-05 - val_loss: 1.5401e-04\n",
      "Epoch 95/100\n",
      "56/56 [==============================] - 7s 126ms/step - loss: 3.8035e-05 - val_loss: 1.4368e-04\n",
      "Epoch 96/100\n",
      "56/56 [==============================] - 7s 128ms/step - loss: 3.5606e-05 - val_loss: 1.4880e-04\n",
      "Epoch 97/100\n",
      "56/56 [==============================] - 7s 128ms/step - loss: 3.2601e-05 - val_loss: 1.6327e-04\n",
      "Epoch 98/100\n",
      "56/56 [==============================] - 8s 136ms/step - loss: 3.3910e-05 - val_loss: 1.5856e-04\n",
      "Epoch 99/100\n",
      "56/56 [==============================] - 7s 129ms/step - loss: 3.3997e-05 - val_loss: 1.4383e-04\n",
      "Epoch 100/100\n",
      "56/56 [==============================] - 7s 130ms/step - loss: 3.4958e-05 - val_loss: 1.5034e-04\n"
     ]
    },
    {
     "data": {
      "text/plain": [
       "<keras.src.callbacks.History at 0x266ac64cc70>"
      ]
     },
     "execution_count": 16,
     "metadata": {},
     "output_type": "execute_result"
    }
   ],
   "source": [
    "model.fit(X_train,y_train,validation_data=(X_test,ytest),epochs=100,batch_size=64,verbose=1)"
   ]
  },
  {
   "cell_type": "code",
   "execution_count": 17,
   "metadata": {},
   "outputs": [
    {
     "name": "stdout",
     "output_type": "stream",
     "text": [
      "111/111 [==============================] - 3s 21ms/step\n",
      "59/59 [==============================] - 1s 21ms/step\n"
     ]
    }
   ],
   "source": [
    "train_predict=model.predict(X_train)\n",
    "test_predict=model.predict(X_test)"
   ]
  },
  {
   "cell_type": "code",
   "execution_count": 18,
   "metadata": {},
   "outputs": [],
   "source": [
    "train_predict=scaler.inverse_transform(train_predict)\n",
    "test_predict=scaler.inverse_transform(test_predict)"
   ]
  },
  {
   "cell_type": "code",
   "execution_count": 19,
   "metadata": {},
   "outputs": [
    {
     "data": {
      "text/plain": [
       "147.42182699845876"
      ]
     },
     "execution_count": 19,
     "metadata": {},
     "output_type": "execute_result"
    }
   ],
   "source": [
    "math.sqrt(mean_squared_error(y_train,train_predict))"
   ]
  },
  {
   "cell_type": "code",
   "execution_count": 20,
   "metadata": {},
   "outputs": [
    {
     "data": {
      "text/plain": [
       "346.25751153522566"
      ]
     },
     "execution_count": 20,
     "metadata": {},
     "output_type": "execute_result"
    }
   ],
   "source": [
    "math.sqrt(mean_squared_error(ytest,test_predict))"
   ]
  },
  {
   "cell_type": "code",
   "execution_count": 21,
   "metadata": {},
   "outputs": [
    {
     "data": {
      "image/png": "[encoded data removed]",
      "text/plain": [
       "<Figure size 432x288 with 1 Axes>"
      ]
     },
     "metadata": {
      "needs_background": "light"
     },
     "output_type": "display_data"
    }
   ],
   "source": [
    "# Plotting \n",
    "# shift train predictions for plotting\n",
    "look_back=100\n",
    "trainPredictPlot = numpy.empty_like(df1)\n",
    "trainPredictPlot[:, :] = np.nan\n",
    "trainPredictPlot[look_back:len(train_predict)+look_back, :] = train_predict\n",
    "\n",
    "# shift test predictions for plotting\n",
    "testPredictPlot = numpy.empty_like(df1)\n",
    "testPredictPlot[:, :] = numpy.nan\n",
    "testPredictPlot[len(train_predict)+(look_back*2)+1:len(df1)-1, :] = test_predict\n",
    "\n",
    "# plot baseline and predictions\n",
    "plt.plot(scaler.inverse_transform(df1))\n",
    "plt.plot(trainPredictPlot)\n",
    "plt.plot(testPredictPlot)\n",
    "plt.show()"
   ]
  },
  {
   "cell_type": "code",
   "execution_count": 22,
   "metadata": {},
   "outputs": [
    {
     "data": {
      "text/plain": [
       "1967"
      ]
     },
     "execution_count": 22,
     "metadata": {},
     "output_type": "execute_result"
    }
   ],
   "source": [
    "len(test_data)"
   ]
  },
  {
   "cell_type": "code",
   "execution_count": 23,
   "metadata": {},
   "outputs": [
    {
     "data": {
      "text/plain": [
       "(1, 100)"
      ]
     },
     "execution_count": 23,
     "metadata": {},
     "output_type": "execute_result"
    }
   ],
   "source": [
    "x_input=test_data[(len(test_data)-100):].reshape(1,-1)\n",
    "x_input.shape\n"
   ]
  },
  {
   "cell_type": "code",
   "execution_count": 24,
   "metadata": {},
   "outputs": [],
   "source": [
    "temp_input=list(x_input)\n",
    "temp_input=temp_input[0].tolist()"
   ]
  },
  {
   "cell_type": "code",
   "execution_count": 25,
   "metadata": {},
   "outputs": [
    {
     "data": {
      "text/plain": [
       "[0.8464688010271416,\n",
       " 0.836964523368827,\n",
       " 0.8342025723357329,\n",
       " 0.8226673175086204,\n",
       " 0.8302220451102506,\n",
       " 0.8303032700445558,\n",
       " 0.8411073488295642,\n",
       " 0.8331464965564073,\n",
       " 0.8557293533380882,\n",
       " 0.8509366273140042,\n",
       " 0.8955338168816804,\n",
       " 0.896346167313638,\n",
       " 0.9013825175961862,\n",
       " 0.8917970655480181,\n",
       " 0.873032033400949,\n",
       " 0.8448441001632265,\n",
       " 0.8373705974959018,\n",
       " 0.824616918109757,\n",
       " 0.8359084475895013,\n",
       " 0.8445190993371011,\n",
       " 0.8272976947529976,\n",
       " 0.8316029700823456,\n",
       " 0.8311156204765134,\n",
       " 0.8168185662496628,\n",
       " 0.8047960123611702,\n",
       " 0.8125944147657163,\n",
       " 0.8092638386480328,\n",
       " 0.8229110428559885,\n",
       " 0.834689921941565,\n",
       " 0.8395639234444064]"
      ]
     },
     "execution_count": 25,
     "metadata": {},
     "output_type": "execute_result"
    }
   ],
   "source": [
    "temp_input[:30]"
   ]
  },
  {
   "cell_type": "code",
   "execution_count": 26,
   "metadata": {},
   "outputs": [
    {
     "name": "stdout",
     "output_type": "stream",
     "text": [
      "[0.98032206]\n",
      "101\n",
      "1 day input [0.83696452 0.83420257 0.82266732 0.83022205 0.83030327 0.84110735\n",
      " 0.8331465  0.85572935 0.85093663 0.89553382 0.89634617 0.90138252\n",
      " 0.89179707 0.87303203 0.8448441  0.8373706  0.82461692 0.83590845\n",
      " 0.8445191  0.82729769 0.83160297 0.83111562 0.81681857 0.80479601\n",
      " 0.81259441 0.80926384 0.82291104 0.83468992 0.83956392 0.8334714\n",
      " 0.84102617 0.83883275 0.84825585 0.8419197  0.84963693 0.86758941\n",
      " 0.87059508 0.86157816 0.86888921 0.86620853 0.88481091 0.89650852\n",
      " 0.90390074 0.90130134 0.92331557 0.91844157 0.91064317 0.92607753\n",
      " 0.92039117 0.93192633 0.91551717 0.91340512 0.915436   0.92307195\n",
      " 0.92916448 0.93631298 0.93631298 0.91665452 0.91819795 0.92144725\n",
      " 0.92867693 0.93046418 0.9281084  0.93582553 0.95044753 0.94687333\n",
      " 0.9441405  0.94894363 0.95631392 0.95631392 0.95324982 0.95962641\n",
      " 0.95846702 0.94223588 0.94215309 0.93842655 0.93867492 0.92202972\n",
      " 0.92989687 0.92592185 0.92352038 0.92178125 0.91615009 0.90232042\n",
      " 0.90637823 0.92136719 0.92136719 0.93254681 0.9534155  0.9597092\n",
      " 0.96194508 0.96509198 0.9669138  0.96525756 0.95854981 0.9597092\n",
      " 0.95374677 0.95167647 0.97933561 0.98032206]\n",
      "1 day output [[0.960986]]\n",
      "2 day input [0.83420257 0.82266732 0.83022205 0.83030327 0.84110735 0.8331465\n",
      " 0.85572935 0.85093663 0.89553382 0.89634617 0.90138252 0.89179707\n",
      " 0.87303203 0.8448441  0.8373706  0.82461692 0.83590845 0.8445191\n",
      " 0.82729769 0.83160297 0.83111562 0.81681857 0.80479601 0.81259441\n",
      " 0.80926384 0.82291104 0.83468992 0.83956392 0.8334714  0.84102617\n",
      " 0.83883275 0.84825585 0.8419197  0.84963693 0.86758941 0.87059508\n",
      " 0.86157816 0.86888921 0.86620853 0.88481091 0.89650852 0.90390074\n",
      " 0.90130134 0.92331557 0.91844157 0.91064317 0.92607753 0.92039117\n",
      " 0.93192633 0.91551717 0.91340512 0.915436   0.92307195 0.92916448\n",
      " 0.93631298 0.93631298 0.91665452 0.91819795 0.92144725 0.92867693\n",
      " 0.93046418 0.9281084  0.93582553 0.95044753 0.94687333 0.9441405\n",
      " 0.94894363 0.95631392 0.95631392 0.95324982 0.95962641 0.95846702\n",
      " 0.94223588 0.94215309 0.93842655 0.93867492 0.92202972 0.92989687\n",
      " 0.92592185 0.92352038 0.92178125 0.91615009 0.90232042 0.90637823\n",
      " 0.92136719 0.92136719 0.93254681 0.9534155  0.9597092  0.96194508\n",
      " 0.96509198 0.9669138  0.96525756 0.95854981 0.9597092  0.95374677\n",
      " 0.95167647 0.97933561 0.98032206 0.96098602]\n",
      "2 day output [[0.9477126]]\n",
      "3 day input [0.82266732 0.83022205 0.83030327 0.84110735 0.8331465  0.85572935\n",
      " 0.85093663 0.89553382 0.89634617 0.90138252 0.89179707 0.87303203\n",
      " 0.8448441  0.8373706  0.82461692 0.83590845 0.8445191  0.82729769\n",
      " 0.83160297 0.83111562 0.81681857 0.80479601 0.81259441 0.80926384\n",
      " 0.82291104 0.83468992 0.83956392 0.8334714  0.84102617 0.83883275\n",
      " 0.84825585 0.8419197  0.84963693 0.86758941 0.87059508 0.86157816\n",
      " 0.86888921 0.86620853 0.88481091 0.89650852 0.90390074 0.90130134\n",
      " 0.92331557 0.91844157 0.91064317 0.92607753 0.92039117 0.93192633\n",
      " 0.91551717 0.91340512 0.915436   0.92307195 0.92916448 0.93631298\n",
      " 0.93631298 0.91665452 0.91819795 0.92144725 0.92867693 0.93046418\n",
      " 0.9281084  0.93582553 0.95044753 0.94687333 0.9441405  0.94894363\n",
      " 0.95631392 0.95631392 0.95324982 0.95962641 0.95846702 0.94223588\n",
      " 0.94215309 0.93842655 0.93867492 0.92202972 0.92989687 0.92592185\n",
      " 0.92352038 0.92178125 0.91615009 0.90232042 0.90637823 0.92136719\n",
      " 0.92136719 0.93254681 0.9534155  0.9597092  0.96194508 0.96509198\n",
      " 0.9669138  0.96525756 0.95854981 0.9597092  0.95374677 0.95167647\n",
      " 0.97933561 0.98032206 0.96098602 0.9477126 ]\n",
      "3 day output [[0.9413678]]\n",
      "4 day input [0.83022205 0.83030327 0.84110735 0.8331465  0.85572935 0.85093663\n",
      " 0.89553382 0.89634617 0.90138252 0.89179707 0.87303203 0.8448441\n",
      " 0.8373706  0.82461692 0.83590845 0.8445191  0.82729769 0.83160297\n",
      " 0.83111562 0.81681857 0.80479601 0.81259441 0.80926384 0.82291104\n",
      " 0.83468992 0.83956392 0.8334714  0.84102617 0.83883275 0.84825585\n",
      " 0.8419197  0.84963693 0.86758941 0.87059508 0.86157816 0.86888921\n",
      " 0.86620853 0.88481091 0.89650852 0.90390074 0.90130134 0.92331557\n",
      " 0.91844157 0.91064317 0.92607753 0.92039117 0.93192633 0.91551717\n",
      " 0.91340512 0.915436   0.92307195 0.92916448 0.93631298 0.93631298\n",
      " 0.91665452 0.91819795 0.92144725 0.92867693 0.93046418 0.9281084\n",
      " 0.93582553 0.95044753 0.94687333 0.9441405  0.94894363 0.95631392\n",
      " 0.95631392 0.95324982 0.95962641 0.95846702 0.94223588 0.94215309\n",
      " 0.93842655 0.93867492 0.92202972 0.92989687 0.92592185 0.92352038\n",
      " 0.92178125 0.91615009 0.90232042 0.90637823 0.92136719 0.92136719\n",
      " 0.93254681 0.9534155  0.9597092  0.96194508 0.96509198 0.9669138\n",
      " 0.96525756 0.95854981 0.9597092  0.95374677 0.95167647 0.97933561\n",
      " 0.98032206 0.96098602 0.9477126  0.94136781]\n",
      "4 day output [[0.93748766]]\n",
      "5 day input [0.83030327 0.84110735 0.8331465  0.85572935 0.85093663 0.89553382\n",
      " 0.89634617 0.90138252 0.89179707 0.87303203 0.8448441  0.8373706\n",
      " 0.82461692 0.83590845 0.8445191  0.82729769 0.83160297 0.83111562\n",
      " 0.81681857 0.80479601 0.81259441 0.80926384 0.82291104 0.83468992\n",
      " 0.83956392 0.8334714  0.84102617 0.83883275 0.84825585 0.8419197\n",
      " 0.84963693 0.86758941 0.87059508 0.86157816 0.86888921 0.86620853\n",
      " 0.88481091 0.89650852 0.90390074 0.90130134 0.92331557 0.91844157\n",
      " 0.91064317 0.92607753 0.92039117 0.93192633 0.91551717 0.91340512\n",
      " 0.915436   0.92307195 0.92916448 0.93631298 0.93631298 0.91665452\n",
      " 0.91819795 0.92144725 0.92867693 0.93046418 0.9281084  0.93582553\n",
      " 0.95044753 0.94687333 0.9441405  0.94894363 0.95631392 0.95631392\n",
      " 0.95324982 0.95962641 0.95846702 0.94223588 0.94215309 0.93842655\n",
      " 0.93867492 0.92202972 0.92989687 0.92592185 0.92352038 0.92178125\n",
      " 0.91615009 0.90232042 0.90637823 0.92136719 0.92136719 0.93254681\n",
      " 0.9534155  0.9597092  0.96194508 0.96509198 0.9669138  0.96525756\n",
      " 0.95854981 0.9597092  0.95374677 0.95167647 0.97933561 0.98032206\n",
      " 0.96098602 0.9477126  0.94136781 0.93748766]\n",
      "5 day output [[0.9342661]]\n",
      "6 day input [0.84110735 0.8331465  0.85572935 0.85093663 0.89553382 0.89634617\n",
      " 0.90138252 0.89179707 0.87303203 0.8448441  0.8373706  0.82461692\n",
      " 0.83590845 0.8445191  0.82729769 0.83160297 0.83111562 0.81681857\n",
      " 0.80479601 0.81259441 0.80926384 0.82291104 0.83468992 0.83956392\n",
      " 0.8334714  0.84102617 0.83883275 0.84825585 0.8419197  0.84963693\n",
      " 0.86758941 0.87059508 0.86157816 0.86888921 0.86620853 0.88481091\n",
      " 0.89650852 0.90390074 0.90130134 0.92331557 0.91844157 0.91064317\n",
      " 0.92607753 0.92039117 0.93192633 0.91551717 0.91340512 0.915436\n",
      " 0.92307195 0.92916448 0.93631298 0.93631298 0.91665452 0.91819795\n",
      " 0.92144725 0.92867693 0.93046418 0.9281084  0.93582553 0.95044753\n",
      " 0.94687333 0.9441405  0.94894363 0.95631392 0.95631392 0.95324982\n",
      " 0.95962641 0.95846702 0.94223588 0.94215309 0.93842655 0.93867492\n",
      " 0.92202972 0.92989687 0.92592185 0.92352038 0.92178125 0.91615009\n",
      " 0.90232042 0.90637823 0.92136719 0.92136719 0.93254681 0.9534155\n",
      " 0.9597092  0.96194508 0.96509198 0.9669138  0.96525756 0.95854981\n",
      " 0.9597092  0.95374677 0.95167647 0.97933561 0.98032206 0.96098602\n",
      " 0.9477126  0.94136781 0.93748766 0.93426609]\n",
      "6 day output [[0.93111324]]\n",
      "7 day input [0.8331465  0.85572935 0.85093663 0.89553382 0.89634617 0.90138252\n",
      " 0.89179707 0.87303203 0.8448441  0.8373706  0.82461692 0.83590845\n",
      " 0.8445191  0.82729769 0.83160297 0.83111562 0.81681857 0.80479601\n",
      " 0.81259441 0.80926384 0.82291104 0.83468992 0.83956392 0.8334714\n",
      " 0.84102617 0.83883275 0.84825585 0.8419197  0.84963693 0.86758941\n",
      " 0.87059508 0.86157816 0.86888921 0.86620853 0.88481091 0.89650852\n",
      " 0.90390074 0.90130134 0.92331557 0.91844157 0.91064317 0.92607753\n",
      " 0.92039117 0.93192633 0.91551717 0.91340512 0.915436   0.92307195\n",
      " 0.92916448 0.93631298 0.93631298 0.91665452 0.91819795 0.92144725\n",
      " 0.92867693 0.93046418 0.9281084  0.93582553 0.95044753 0.94687333\n",
      " 0.9441405  0.94894363 0.95631392 0.95631392 0.95324982 0.95962641\n",
      " 0.95846702 0.94223588 0.94215309 0.93842655 0.93867492 0.92202972\n",
      " 0.92989687 0.92592185 0.92352038 0.92178125 0.91615009 0.90232042\n",
      " 0.90637823 0.92136719 0.92136719 0.93254681 0.9534155  0.9597092\n",
      " 0.96194508 0.96509198 0.9669138  0.96525756 0.95854981 0.9597092\n",
      " 0.95374677 0.95167647 0.97933561 0.98032206 0.96098602 0.9477126\n",
      " 0.94136781 0.93748766 0.93426609 0.93111324]\n",
      "7 day output [[0.9279066]]\n",
      "8 day input [0.85572935 0.85093663 0.89553382 0.89634617 0.90138252 0.89179707\n",
      " 0.87303203 0.8448441  0.8373706  0.82461692 0.83590845 0.8445191\n",
      " 0.82729769 0.83160297 0.83111562 0.81681857 0.80479601 0.81259441\n",
      " 0.80926384 0.82291104 0.83468992 0.83956392 0.8334714  0.84102617\n",
      " 0.83883275 0.84825585 0.8419197  0.84963693 0.86758941 0.87059508\n",
      " 0.86157816 0.86888921 0.86620853 0.88481091 0.89650852 0.90390074\n",
      " 0.90130134 0.92331557 0.91844157 0.91064317 0.92607753 0.92039117\n",
      " 0.93192633 0.91551717 0.91340512 0.915436   0.92307195 0.92916448\n",
      " 0.93631298 0.93631298 0.91665452 0.91819795 0.92144725 0.92867693\n",
      " 0.93046418 0.9281084  0.93582553 0.95044753 0.94687333 0.9441405\n",
      " 0.94894363 0.95631392 0.95631392 0.95324982 0.95962641 0.95846702\n",
      " 0.94223588 0.94215309 0.93842655 0.93867492 0.92202972 0.92989687\n",
      " 0.92592185 0.92352038 0.92178125 0.91615009 0.90232042 0.90637823\n",
      " 0.92136719 0.92136719 0.93254681 0.9534155  0.9597092  0.96194508\n",
      " 0.96509198 0.9669138  0.96525756 0.95854981 0.9597092  0.95374677\n",
      " 0.95167647 0.97933561 0.98032206 0.96098602 0.9477126  0.94136781\n",
      " 0.93748766 0.93426609 0.93111324 0.92790657]\n",
      "8 day output [[0.92466444]]\n",
      "9 day input [0.85093663 0.89553382 0.89634617 0.90138252 0.89179707 0.87303203\n",
      " 0.8448441  0.8373706  0.82461692 0.83590845 0.8445191  0.82729769\n",
      " 0.83160297 0.83111562 0.81681857 0.80479601 0.81259441 0.80926384\n",
      " 0.82291104 0.83468992 0.83956392 0.8334714  0.84102617 0.83883275\n",
      " 0.84825585 0.8419197  0.84963693 0.86758941 0.87059508 0.86157816\n",
      " 0.86888921 0.86620853 0.88481091 0.89650852 0.90390074 0.90130134\n",
      " 0.92331557 0.91844157 0.91064317 0.92607753 0.92039117 0.93192633\n",
      " 0.91551717 0.91340512 0.915436   0.92307195 0.92916448 0.93631298\n",
      " 0.93631298 0.91665452 0.91819795 0.92144725 0.92867693 0.93046418\n",
      " 0.9281084  0.93582553 0.95044753 0.94687333 0.9441405  0.94894363\n",
      " 0.95631392 0.95631392 0.95324982 0.95962641 0.95846702 0.94223588\n",
      " 0.94215309 0.93842655 0.93867492 0.92202972 0.92989687 0.92592185\n",
      " 0.92352038 0.92178125 0.91615009 0.90232042 0.90637823 0.92136719\n",
      " 0.92136719 0.93254681 0.9534155  0.9597092  0.96194508 0.96509198\n",
      " 0.9669138  0.96525756 0.95854981 0.9597092  0.95374677 0.95167647\n",
      " 0.97933561 0.98032206 0.96098602 0.9477126  0.94136781 0.93748766\n",
      " 0.93426609 0.93111324 0.92790657 0.92466444]\n",
      "9 day output [[0.9214196]]\n",
      "10 day input [0.89553382 0.89634617 0.90138252 0.89179707 0.87303203 0.8448441\n",
      " 0.8373706  0.82461692 0.83590845 0.8445191  0.82729769 0.83160297\n",
      " 0.83111562 0.81681857 0.80479601 0.81259441 0.80926384 0.82291104\n",
      " 0.83468992 0.83956392 0.8334714  0.84102617 0.83883275 0.84825585\n",
      " 0.8419197  0.84963693 0.86758941 0.87059508 0.86157816 0.86888921\n",
      " 0.86620853 0.88481091 0.89650852 0.90390074 0.90130134 0.92331557\n",
      " 0.91844157 0.91064317 0.92607753 0.92039117 0.93192633 0.91551717\n",
      " 0.91340512 0.915436   0.92307195 0.92916448 0.93631298 0.93631298\n",
      " 0.91665452 0.91819795 0.92144725 0.92867693 0.93046418 0.9281084\n",
      " 0.93582553 0.95044753 0.94687333 0.9441405  0.94894363 0.95631392\n",
      " 0.95631392 0.95324982 0.95962641 0.95846702 0.94223588 0.94215309\n",
      " 0.93842655 0.93867492 0.92202972 0.92989687 0.92592185 0.92352038\n",
      " 0.92178125 0.91615009 0.90232042 0.90637823 0.92136719 0.92136719\n",
      " 0.93254681 0.9534155  0.9597092  0.96194508 0.96509198 0.9669138\n",
      " 0.96525756 0.95854981 0.9597092  0.95374677 0.95167647 0.97933561\n",
      " 0.98032206 0.96098602 0.9477126  0.94136781 0.93748766 0.93426609\n",
      " 0.93111324 0.92790657 0.92466444 0.92141962]\n",
      "10 day output [[0.918189]]\n",
      "11 day input [0.89634617 0.90138252 0.89179707 0.87303203 0.8448441  0.8373706\n",
      " 0.82461692 0.83590845 0.8445191  0.82729769 0.83160297 0.83111562\n",
      " 0.81681857 0.80479601 0.81259441 0.80926384 0.82291104 0.83468992\n",
      " 0.83956392 0.8334714  0.84102617 0.83883275 0.84825585 0.8419197\n",
      " 0.84963693 0.86758941 0.87059508 0.86157816 0.86888921 0.86620853\n",
      " 0.88481091 0.89650852 0.90390074 0.90130134 0.92331557 0.91844157\n",
      " 0.91064317 0.92607753 0.92039117 0.93192633 0.91551717 0.91340512\n",
      " 0.915436   0.92307195 0.92916448 0.93631298 0.93631298 0.91665452\n",
      " 0.91819795 0.92144725 0.92867693 0.93046418 0.9281084  0.93582553\n",
      " 0.95044753 0.94687333 0.9441405  0.94894363 0.95631392 0.95631392\n",
      " 0.95324982 0.95962641 0.95846702 0.94223588 0.94215309 0.93842655\n",
      " 0.93867492 0.92202972 0.92989687 0.92592185 0.92352038 0.92178125\n",
      " 0.91615009 0.90232042 0.90637823 0.92136719 0.92136719 0.93254681\n",
      " 0.9534155  0.9597092  0.96194508 0.96509198 0.9669138  0.96525756\n",
      " 0.95854981 0.9597092  0.95374677 0.95167647 0.97933561 0.98032206\n",
      " 0.96098602 0.9477126  0.94136781 0.93748766 0.93426609 0.93111324\n",
      " 0.92790657 0.92466444 0.92141962 0.91818899]\n",
      "11 day output [[0.91497654]]\n",
      "12 day input [0.90138252 0.89179707 0.87303203 0.8448441  0.8373706  0.82461692\n",
      " 0.83590845 0.8445191  0.82729769 0.83160297 0.83111562 0.81681857\n",
      " 0.80479601 0.81259441 0.80926384 0.82291104 0.83468992 0.83956392\n",
      " 0.8334714  0.84102617 0.83883275 0.84825585 0.8419197  0.84963693\n",
      " 0.86758941 0.87059508 0.86157816 0.86888921 0.86620853 0.88481091\n",
      " 0.89650852 0.90390074 0.90130134 0.92331557 0.91844157 0.91064317\n",
      " 0.92607753 0.92039117 0.93192633 0.91551717 0.91340512 0.915436\n",
      " 0.92307195 0.92916448 0.93631298 0.93631298 0.91665452 0.91819795\n",
      " 0.92144725 0.92867693 0.93046418 0.9281084  0.93582553 0.95044753\n",
      " 0.94687333 0.9441405  0.94894363 0.95631392 0.95631392 0.95324982\n",
      " 0.95962641 0.95846702 0.94223588 0.94215309 0.93842655 0.93867492\n",
      " 0.92202972 0.92989687 0.92592185 0.92352038 0.92178125 0.91615009\n",
      " 0.90232042 0.90637823 0.92136719 0.92136719 0.93254681 0.9534155\n",
      " 0.9597092  0.96194508 0.96509198 0.9669138  0.96525756 0.95854981\n",
      " 0.9597092  0.95374677 0.95167647 0.97933561 0.98032206 0.96098602\n",
      " 0.9477126  0.94136781 0.93748766 0.93426609 0.93111324 0.92790657\n",
      " 0.92466444 0.92141962 0.91818899 0.91497654]\n",
      "12 day output [[0.9117823]]\n",
      "13 day input [0.89179707 0.87303203 0.8448441  0.8373706  0.82461692 0.83590845\n",
      " 0.8445191  0.82729769 0.83160297 0.83111562 0.81681857 0.80479601\n",
      " 0.81259441 0.80926384 0.82291104 0.83468992 0.83956392 0.8334714\n",
      " 0.84102617 0.83883275 0.84825585 0.8419197  0.84963693 0.86758941\n",
      " 0.87059508 0.86157816 0.86888921 0.86620853 0.88481091 0.89650852\n",
      " 0.90390074 0.90130134 0.92331557 0.91844157 0.91064317 0.92607753\n",
      " 0.92039117 0.93192633 0.91551717 0.91340512 0.915436   0.92307195\n",
      " 0.92916448 0.93631298 0.93631298 0.91665452 0.91819795 0.92144725\n",
      " 0.92867693 0.93046418 0.9281084  0.93582553 0.95044753 0.94687333\n",
      " 0.9441405  0.94894363 0.95631392 0.95631392 0.95324982 0.95962641\n",
      " 0.95846702 0.94223588 0.94215309 0.93842655 0.93867492 0.92202972\n",
      " 0.92989687 0.92592185 0.92352038 0.92178125 0.91615009 0.90232042\n",
      " 0.90637823 0.92136719 0.92136719 0.93254681 0.9534155  0.9597092\n",
      " 0.96194508 0.96509198 0.9669138  0.96525756 0.95854981 0.9597092\n",
      " 0.95374677 0.95167647 0.97933561 0.98032206 0.96098602 0.9477126\n",
      " 0.94136781 0.93748766 0.93426609 0.93111324 0.92790657 0.92466444\n",
      " 0.92141962 0.91818899 0.91497654 0.91178232]\n",
      "13 day output [[0.9086053]]\n",
      "14 day input [0.87303203 0.8448441  0.8373706  0.82461692 0.83590845 0.8445191\n",
      " 0.82729769 0.83160297 0.83111562 0.81681857 0.80479601 0.81259441\n",
      " 0.80926384 0.82291104 0.83468992 0.83956392 0.8334714  0.84102617\n",
      " 0.83883275 0.84825585 0.8419197  0.84963693 0.86758941 0.87059508\n",
      " 0.86157816 0.86888921 0.86620853 0.88481091 0.89650852 0.90390074\n",
      " 0.90130134 0.92331557 0.91844157 0.91064317 0.92607753 0.92039117\n",
      " 0.93192633 0.91551717 0.91340512 0.915436   0.92307195 0.92916448\n",
      " 0.93631298 0.93631298 0.91665452 0.91819795 0.92144725 0.92867693\n",
      " 0.93046418 0.9281084  0.93582553 0.95044753 0.94687333 0.9441405\n",
      " 0.94894363 0.95631392 0.95631392 0.95324982 0.95962641 0.95846702\n",
      " 0.94223588 0.94215309 0.93842655 0.93867492 0.92202972 0.92989687\n",
      " 0.92592185 0.92352038 0.92178125 0.91615009 0.90232042 0.90637823\n",
      " 0.92136719 0.92136719 0.93254681 0.9534155  0.9597092  0.96194508\n",
      " 0.96509198 0.9669138  0.96525756 0.95854981 0.9597092  0.95374677\n",
      " 0.95167647 0.97933561 0.98032206 0.96098602 0.9477126  0.94136781\n",
      " 0.93748766 0.93426609 0.93111324 0.92790657 0.92466444 0.92141962\n",
      " 0.91818899 0.91497654 0.91178232 0.90860528]\n",
      "14 day output [[0.90544534]]\n",
      "15 day input [0.8448441  0.8373706  0.82461692 0.83590845 0.8445191  0.82729769\n",
      " 0.83160297 0.83111562 0.81681857 0.80479601 0.81259441 0.80926384\n",
      " 0.82291104 0.83468992 0.83956392 0.8334714  0.84102617 0.83883275\n",
      " 0.84825585 0.8419197  0.84963693 0.86758941 0.87059508 0.86157816\n",
      " 0.86888921 0.86620853 0.88481091 0.89650852 0.90390074 0.90130134\n",
      " 0.92331557 0.91844157 0.91064317 0.92607753 0.92039117 0.93192633\n",
      " 0.91551717 0.91340512 0.915436   0.92307195 0.92916448 0.93631298\n",
      " 0.93631298 0.91665452 0.91819795 0.92144725 0.92867693 0.93046418\n",
      " 0.9281084  0.93582553 0.95044753 0.94687333 0.9441405  0.94894363\n",
      " 0.95631392 0.95631392 0.95324982 0.95962641 0.95846702 0.94223588\n",
      " 0.94215309 0.93842655 0.93867492 0.92202972 0.92989687 0.92592185\n",
      " 0.92352038 0.92178125 0.91615009 0.90232042 0.90637823 0.92136719\n",
      " 0.92136719 0.93254681 0.9534155  0.9597092  0.96194508 0.96509198\n",
      " 0.9669138  0.96525756 0.95854981 0.9597092  0.95374677 0.95167647\n",
      " 0.97933561 0.98032206 0.96098602 0.9477126  0.94136781 0.93748766\n",
      " 0.93426609 0.93111324 0.92790657 0.92466444 0.92141962 0.91818899\n",
      " 0.91497654 0.91178232 0.90860528 0.90544534]\n",
      "15 day output [[0.90230364]]\n",
      "16 day input [0.8373706  0.82461692 0.83590845 0.8445191  0.82729769 0.83160297\n",
      " 0.83111562 0.81681857 0.80479601 0.81259441 0.80926384 0.82291104\n",
      " 0.83468992 0.83956392 0.8334714  0.84102617 0.83883275 0.84825585\n",
      " 0.8419197  0.84963693 0.86758941 0.87059508 0.86157816 0.86888921\n",
      " 0.86620853 0.88481091 0.89650852 0.90390074 0.90130134 0.92331557\n",
      " 0.91844157 0.91064317 0.92607753 0.92039117 0.93192633 0.91551717\n",
      " 0.91340512 0.915436   0.92307195 0.92916448 0.93631298 0.93631298\n",
      " 0.91665452 0.91819795 0.92144725 0.92867693 0.93046418 0.9281084\n",
      " 0.93582553 0.95044753 0.94687333 0.9441405  0.94894363 0.95631392\n",
      " 0.95631392 0.95324982 0.95962641 0.95846702 0.94223588 0.94215309\n",
      " 0.93842655 0.93867492 0.92202972 0.92989687 0.92592185 0.92352038\n",
      " 0.92178125 0.91615009 0.90232042 0.90637823 0.92136719 0.92136719\n",
      " 0.93254681 0.9534155  0.9597092  0.96194508 0.96509198 0.9669138\n",
      " 0.96525756 0.95854981 0.9597092  0.95374677 0.95167647 0.97933561\n",
      " 0.98032206 0.96098602 0.9477126  0.94136781 0.93748766 0.93426609\n",
      " 0.93111324 0.92790657 0.92466444 0.92141962 0.91818899 0.91497654\n",
      " 0.91178232 0.90860528 0.90544534 0.90230364]\n",
      "16 day output [[0.89918053]]\n",
      "17 day input [0.82461692 0.83590845 0.8445191  0.82729769 0.83160297 0.83111562\n",
      " 0.81681857 0.80479601 0.81259441 0.80926384 0.82291104 0.83468992\n",
      " 0.83956392 0.8334714  0.84102617 0.83883275 0.84825585 0.8419197\n",
      " 0.84963693 0.86758941 0.87059508 0.86157816 0.86888921 0.86620853\n",
      " 0.88481091 0.89650852 0.90390074 0.90130134 0.92331557 0.91844157\n",
      " 0.91064317 0.92607753 0.92039117 0.93192633 0.91551717 0.91340512\n",
      " 0.915436   0.92307195 0.92916448 0.93631298 0.93631298 0.91665452\n",
      " 0.91819795 0.92144725 0.92867693 0.93046418 0.9281084  0.93582553\n",
      " 0.95044753 0.94687333 0.9441405  0.94894363 0.95631392 0.95631392\n",
      " 0.95324982 0.95962641 0.95846702 0.94223588 0.94215309 0.93842655\n",
      " 0.93867492 0.92202972 0.92989687 0.92592185 0.92352038 0.92178125\n",
      " 0.91615009 0.90232042 0.90637823 0.92136719 0.92136719 0.93254681\n",
      " 0.9534155  0.9597092  0.96194508 0.96509198 0.9669138  0.96525756\n",
      " 0.95854981 0.9597092  0.95374677 0.95167647 0.97933561 0.98032206\n",
      " 0.96098602 0.9477126  0.94136781 0.93748766 0.93426609 0.93111324\n",
      " 0.92790657 0.92466444 0.92141962 0.91818899 0.91497654 0.91178232\n",
      " 0.90860528 0.90544534 0.90230364 0.89918053]\n",
      "17 day output [[0.8960785]]\n",
      "18 day input [0.83590845 0.8445191  0.82729769 0.83160297 0.83111562 0.81681857\n",
      " 0.80479601 0.81259441 0.80926384 0.82291104 0.83468992 0.83956392\n",
      " 0.8334714  0.84102617 0.83883275 0.84825585 0.8419197  0.84963693\n",
      " 0.86758941 0.87059508 0.86157816 0.86888921 0.86620853 0.88481091\n",
      " 0.89650852 0.90390074 0.90130134 0.92331557 0.91844157 0.91064317\n",
      " 0.92607753 0.92039117 0.93192633 0.91551717 0.91340512 0.915436\n",
      " 0.92307195 0.92916448 0.93631298 0.93631298 0.91665452 0.91819795\n",
      " 0.92144725 0.92867693 0.93046418 0.9281084  0.93582553 0.95044753\n",
      " 0.94687333 0.9441405  0.94894363 0.95631392 0.95631392 0.95324982\n",
      " 0.95962641 0.95846702 0.94223588 0.94215309 0.93842655 0.93867492\n",
      " 0.92202972 0.92989687 0.92592185 0.92352038 0.92178125 0.91615009\n",
      " 0.90232042 0.90637823 0.92136719 0.92136719 0.93254681 0.9534155\n",
      " 0.9597092  0.96194508 0.96509198 0.9669138  0.96525756 0.95854981\n",
      " 0.9597092  0.95374677 0.95167647 0.97933561 0.98032206 0.96098602\n",
      " 0.9477126  0.94136781 0.93748766 0.93426609 0.93111324 0.92790657\n",
      " 0.92466444 0.92141962 0.91818899 0.91497654 0.91178232 0.90860528\n",
      " 0.90544534 0.90230364 0.89918053 0.89607853]\n",
      "18 day output [[0.8929996]]\n",
      "19 day input [0.8445191  0.82729769 0.83160297 0.83111562 0.81681857 0.80479601\n",
      " 0.81259441 0.80926384 0.82291104 0.83468992 0.83956392 0.8334714\n",
      " 0.84102617 0.83883275 0.84825585 0.8419197  0.84963693 0.86758941\n",
      " 0.87059508 0.86157816 0.86888921 0.86620853 0.88481091 0.89650852\n",
      " 0.90390074 0.90130134 0.92331557 0.91844157 0.91064317 0.92607753\n",
      " 0.92039117 0.93192633 0.91551717 0.91340512 0.915436   0.92307195\n",
      " 0.92916448 0.93631298 0.93631298 0.91665452 0.91819795 0.92144725\n",
      " 0.92867693 0.93046418 0.9281084  0.93582553 0.95044753 0.94687333\n",
      " 0.9441405  0.94894363 0.95631392 0.95631392 0.95324982 0.95962641\n",
      " 0.95846702 0.94223588 0.94215309 0.93842655 0.93867492 0.92202972\n",
      " 0.92989687 0.92592185 0.92352038 0.92178125 0.91615009 0.90232042\n",
      " 0.90637823 0.92136719 0.92136719 0.93254681 0.9534155  0.9597092\n",
      " 0.96194508 0.96509198 0.9669138  0.96525756 0.95854981 0.9597092\n",
      " 0.95374677 0.95167647 0.97933561 0.98032206 0.96098602 0.9477126\n",
      " 0.94136781 0.93748766 0.93426609 0.93111324 0.92790657 0.92466444\n",
      " 0.92141962 0.91818899 0.91497654 0.91178232 0.90860528 0.90544534\n",
      " 0.90230364 0.89918053 0.89607853 0.89299959]\n",
      "19 day output [[0.88994455]]\n",
      "20 day input [0.82729769 0.83160297 0.83111562 0.81681857 0.80479601 0.81259441\n",
      " 0.80926384 0.82291104 0.83468992 0.83956392 0.8334714  0.84102617\n",
      " 0.83883275 0.84825585 0.8419197  0.84963693 0.86758941 0.87059508\n",
      " 0.86157816 0.86888921 0.86620853 0.88481091 0.89650852 0.90390074\n",
      " 0.90130134 0.92331557 0.91844157 0.91064317 0.92607753 0.92039117\n",
      " 0.93192633 0.91551717 0.91340512 0.915436   0.92307195 0.92916448\n",
      " 0.93631298 0.93631298 0.91665452 0.91819795 0.92144725 0.92867693\n",
      " 0.93046418 0.9281084  0.93582553 0.95044753 0.94687333 0.9441405\n",
      " 0.94894363 0.95631392 0.95631392 0.95324982 0.95962641 0.95846702\n",
      " 0.94223588 0.94215309 0.93842655 0.93867492 0.92202972 0.92989687\n",
      " 0.92592185 0.92352038 0.92178125 0.91615009 0.90232042 0.90637823\n",
      " 0.92136719 0.92136719 0.93254681 0.9534155  0.9597092  0.96194508\n",
      " 0.96509198 0.9669138  0.96525756 0.95854981 0.9597092  0.95374677\n",
      " 0.95167647 0.97933561 0.98032206 0.96098602 0.9477126  0.94136781\n",
      " 0.93748766 0.93426609 0.93111324 0.92790657 0.92466444 0.92141962\n",
      " 0.91818899 0.91497654 0.91178232 0.90860528 0.90544534 0.90230364\n",
      " 0.89918053 0.89607853 0.89299959 0.88994455]\n",
      "20 day output [[0.88691455]]\n",
      "21 day input [0.83160297 0.83111562 0.81681857 0.80479601 0.81259441 0.80926384\n",
      " 0.82291104 0.83468992 0.83956392 0.8334714  0.84102617 0.83883275\n",
      " 0.84825585 0.8419197  0.84963693 0.86758941 0.87059508 0.86157816\n",
      " 0.86888921 0.86620853 0.88481091 0.89650852 0.90390074 0.90130134\n",
      " 0.92331557 0.91844157 0.91064317 0.92607753 0.92039117 0.93192633\n",
      " 0.91551717 0.91340512 0.915436   0.92307195 0.92916448 0.93631298\n",
      " 0.93631298 0.91665452 0.91819795 0.92144725 0.92867693 0.93046418\n",
      " 0.9281084  0.93582553 0.95044753 0.94687333 0.9441405  0.94894363\n",
      " 0.95631392 0.95631392 0.95324982 0.95962641 0.95846702 0.94223588\n",
      " 0.94215309 0.93842655 0.93867492 0.92202972 0.92989687 0.92592185\n",
      " 0.92352038 0.92178125 0.91615009 0.90232042 0.90637823 0.92136719\n",
      " 0.92136719 0.93254681 0.9534155  0.9597092  0.96194508 0.96509198\n",
      " 0.9669138  0.96525756 0.95854981 0.9597092  0.95374677 0.95167647\n",
      " 0.97933561 0.98032206 0.96098602 0.9477126  0.94136781 0.93748766\n",
      " 0.93426609 0.93111324 0.92790657 0.92466444 0.92141962 0.91818899\n",
      " 0.91497654 0.91178232 0.90860528 0.90544534 0.90230364 0.89918053\n",
      " 0.89607853 0.89299959 0.88994455 0.88691455]\n",
      "21 day output [[0.883911]]\n",
      "22 day input [0.83111562 0.81681857 0.80479601 0.81259441 0.80926384 0.82291104\n",
      " 0.83468992 0.83956392 0.8334714  0.84102617 0.83883275 0.84825585\n",
      " 0.8419197  0.84963693 0.86758941 0.87059508 0.86157816 0.86888921\n",
      " 0.86620853 0.88481091 0.89650852 0.90390074 0.90130134 0.92331557\n",
      " 0.91844157 0.91064317 0.92607753 0.92039117 0.93192633 0.91551717\n",
      " 0.91340512 0.915436   0.92307195 0.92916448 0.93631298 0.93631298\n",
      " 0.91665452 0.91819795 0.92144725 0.92867693 0.93046418 0.9281084\n",
      " 0.93582553 0.95044753 0.94687333 0.9441405  0.94894363 0.95631392\n",
      " 0.95631392 0.95324982 0.95962641 0.95846702 0.94223588 0.94215309\n",
      " 0.93842655 0.93867492 0.92202972 0.92989687 0.92592185 0.92352038\n",
      " 0.92178125 0.91615009 0.90232042 0.90637823 0.92136719 0.92136719\n",
      " 0.93254681 0.9534155  0.9597092  0.96194508 0.96509198 0.9669138\n",
      " 0.96525756 0.95854981 0.9597092  0.95374677 0.95167647 0.97933561\n",
      " 0.98032206 0.96098602 0.9477126  0.94136781 0.93748766 0.93426609\n",
      " 0.93111324 0.92790657 0.92466444 0.92141962 0.91818899 0.91497654\n",
      " 0.91178232 0.90860528 0.90544534 0.90230364 0.89918053 0.89607853\n",
      " 0.89299959 0.88994455 0.88691455 0.88391101]\n",
      "22 day output [[0.8809342]]\n",
      "23 day input [0.81681857 0.80479601 0.81259441 0.80926384 0.82291104 0.83468992\n",
      " 0.83956392 0.8334714  0.84102617 0.83883275 0.84825585 0.8419197\n",
      " 0.84963693 0.86758941 0.87059508 0.86157816 0.86888921 0.86620853\n",
      " 0.88481091 0.89650852 0.90390074 0.90130134 0.92331557 0.91844157\n",
      " 0.91064317 0.92607753 0.92039117 0.93192633 0.91551717 0.91340512\n",
      " 0.915436   0.92307195 0.92916448 0.93631298 0.93631298 0.91665452\n",
      " 0.91819795 0.92144725 0.92867693 0.93046418 0.9281084  0.93582553\n",
      " 0.95044753 0.94687333 0.9441405  0.94894363 0.95631392 0.95631392\n",
      " 0.95324982 0.95962641 0.95846702 0.94223588 0.94215309 0.93842655\n",
      " 0.93867492 0.92202972 0.92989687 0.92592185 0.92352038 0.92178125\n",
      " 0.91615009 0.90232042 0.90637823 0.92136719 0.92136719 0.93254681\n",
      " 0.9534155  0.9597092  0.96194508 0.96509198 0.9669138  0.96525756\n",
      " 0.95854981 0.9597092  0.95374677 0.95167647 0.97933561 0.98032206\n",
      " 0.96098602 0.9477126  0.94136781 0.93748766 0.93426609 0.93111324\n",
      " 0.92790657 0.92466444 0.92141962 0.91818899 0.91497654 0.91178232\n",
      " 0.90860528 0.90544534 0.90230364 0.89918053 0.89607853 0.89299959\n",
      " 0.88994455 0.88691455 0.88391101 0.88093418]\n",
      "23 day output [[0.87798387]]\n",
      "24 day input [0.80479601 0.81259441 0.80926384 0.82291104 0.83468992 0.83956392\n",
      " 0.8334714  0.84102617 0.83883275 0.84825585 0.8419197  0.84963693\n",
      " 0.86758941 0.87059508 0.86157816 0.86888921 0.86620853 0.88481091\n",
      " 0.89650852 0.90390074 0.90130134 0.92331557 0.91844157 0.91064317\n",
      " 0.92607753 0.92039117 0.93192633 0.91551717 0.91340512 0.915436\n",
      " 0.92307195 0.92916448 0.93631298 0.93631298 0.91665452 0.91819795\n",
      " 0.92144725 0.92867693 0.93046418 0.9281084  0.93582553 0.95044753\n",
      " 0.94687333 0.9441405  0.94894363 0.95631392 0.95631392 0.95324982\n",
      " 0.95962641 0.95846702 0.94223588 0.94215309 0.93842655 0.93867492\n",
      " 0.92202972 0.92989687 0.92592185 0.92352038 0.92178125 0.91615009\n",
      " 0.90232042 0.90637823 0.92136719 0.92136719 0.93254681 0.9534155\n",
      " 0.9597092  0.96194508 0.96509198 0.9669138  0.96525756 0.95854981\n",
      " 0.9597092  0.95374677 0.95167647 0.97933561 0.98032206 0.96098602\n",
      " 0.9477126  0.94136781 0.93748766 0.93426609 0.93111324 0.92790657\n",
      " 0.92466444 0.92141962 0.91818899 0.91497654 0.91178232 0.90860528\n",
      " 0.90544534 0.90230364 0.89918053 0.89607853 0.89299959 0.88994455\n",
      " 0.88691455 0.88391101 0.88093418 0.87798387]\n",
      "24 day output [[0.8750606]]\n",
      "25 day input [0.81259441 0.80926384 0.82291104 0.83468992 0.83956392 0.8334714\n",
      " 0.84102617 0.83883275 0.84825585 0.8419197  0.84963693 0.86758941\n",
      " 0.87059508 0.86157816 0.86888921 0.86620853 0.88481091 0.89650852\n",
      " 0.90390074 0.90130134 0.92331557 0.91844157 0.91064317 0.92607753\n",
      " 0.92039117 0.93192633 0.91551717 0.91340512 0.915436   0.92307195\n",
      " 0.92916448 0.93631298 0.93631298 0.91665452 0.91819795 0.92144725\n",
      " 0.92867693 0.93046418 0.9281084  0.93582553 0.95044753 0.94687333\n",
      " 0.9441405  0.94894363 0.95631392 0.95631392 0.95324982 0.95962641\n",
      " 0.95846702 0.94223588 0.94215309 0.93842655 0.93867492 0.92202972\n",
      " 0.92989687 0.92592185 0.92352038 0.92178125 0.91615009 0.90232042\n",
      " 0.90637823 0.92136719 0.92136719 0.93254681 0.9534155  0.9597092\n",
      " 0.96194508 0.96509198 0.9669138  0.96525756 0.95854981 0.9597092\n",
      " 0.95374677 0.95167647 0.97933561 0.98032206 0.96098602 0.9477126\n",
      " 0.94136781 0.93748766 0.93426609 0.93111324 0.92790657 0.92466444\n",
      " 0.92141962 0.91818899 0.91497654 0.91178232 0.90860528 0.90544534\n",
      " 0.90230364 0.89918053 0.89607853 0.89299959 0.88994455 0.88691455\n",
      " 0.88391101 0.88093418 0.87798387 0.87506062]\n",
      "25 day output [[0.8721643]]\n",
      "26 day input [0.80926384 0.82291104 0.83468992 0.83956392 0.8334714  0.84102617\n",
      " 0.83883275 0.84825585 0.8419197  0.84963693 0.86758941 0.87059508\n",
      " 0.86157816 0.86888921 0.86620853 0.88481091 0.89650852 0.90390074\n",
      " 0.90130134 0.92331557 0.91844157 0.91064317 0.92607753 0.92039117\n",
      " 0.93192633 0.91551717 0.91340512 0.915436   0.92307195 0.92916448\n",
      " 0.93631298 0.93631298 0.91665452 0.91819795 0.92144725 0.92867693\n",
      " 0.93046418 0.9281084  0.93582553 0.95044753 0.94687333 0.9441405\n",
      " 0.94894363 0.95631392 0.95631392 0.95324982 0.95962641 0.95846702\n",
      " 0.94223588 0.94215309 0.93842655 0.93867492 0.92202972 0.92989687\n",
      " 0.92592185 0.92352038 0.92178125 0.91615009 0.90232042 0.90637823\n",
      " 0.92136719 0.92136719 0.93254681 0.9534155  0.9597092  0.96194508\n",
      " 0.96509198 0.9669138  0.96525756 0.95854981 0.9597092  0.95374677\n",
      " 0.95167647 0.97933561 0.98032206 0.96098602 0.9477126  0.94136781\n",
      " 0.93748766 0.93426609 0.93111324 0.92790657 0.92466444 0.92141962\n",
      " 0.91818899 0.91497654 0.91178232 0.90860528 0.90544534 0.90230364\n",
      " 0.89918053 0.89607853 0.89299959 0.88994455 0.88691455 0.88391101\n",
      " 0.88093418 0.87798387 0.87506062 0.87216431]\n",
      "26 day output [[0.8692951]]\n",
      "27 day input [0.82291104 0.83468992 0.83956392 0.8334714  0.84102617 0.83883275\n",
      " 0.84825585 0.8419197  0.84963693 0.86758941 0.87059508 0.86157816\n",
      " 0.86888921 0.86620853 0.88481091 0.89650852 0.90390074 0.90130134\n",
      " 0.92331557 0.91844157 0.91064317 0.92607753 0.92039117 0.93192633\n",
      " 0.91551717 0.91340512 0.915436   0.92307195 0.92916448 0.93631298\n",
      " 0.93631298 0.91665452 0.91819795 0.92144725 0.92867693 0.93046418\n",
      " 0.9281084  0.93582553 0.95044753 0.94687333 0.9441405  0.94894363\n",
      " 0.95631392 0.95631392 0.95324982 0.95962641 0.95846702 0.94223588\n",
      " 0.94215309 0.93842655 0.93867492 0.92202972 0.92989687 0.92592185\n",
      " 0.92352038 0.92178125 0.91615009 0.90232042 0.90637823 0.92136719\n",
      " 0.92136719 0.93254681 0.9534155  0.9597092  0.96194508 0.96509198\n",
      " 0.9669138  0.96525756 0.95854981 0.9597092  0.95374677 0.95167647\n",
      " 0.97933561 0.98032206 0.96098602 0.9477126  0.94136781 0.93748766\n",
      " 0.93426609 0.93111324 0.92790657 0.92466444 0.92141962 0.91818899\n",
      " 0.91497654 0.91178232 0.90860528 0.90544534 0.90230364 0.89918053\n",
      " 0.89607853 0.89299959 0.88994455 0.88691455 0.88391101 0.88093418\n",
      " 0.87798387 0.87506062 0.87216431 0.86929512]\n",
      "27 day output [[0.86645234]]\n",
      "28 day input [0.83468992 0.83956392 0.8334714  0.84102617 0.83883275 0.84825585\n",
      " 0.8419197  0.84963693 0.86758941 0.87059508 0.86157816 0.86888921\n",
      " 0.86620853 0.88481091 0.89650852 0.90390074 0.90130134 0.92331557\n",
      " 0.91844157 0.91064317 0.92607753 0.92039117 0.93192633 0.91551717\n",
      " 0.91340512 0.915436   0.92307195 0.92916448 0.93631298 0.93631298\n",
      " 0.91665452 0.91819795 0.92144725 0.92867693 0.93046418 0.9281084\n",
      " 0.93582553 0.95044753 0.94687333 0.9441405  0.94894363 0.95631392\n",
      " 0.95631392 0.95324982 0.95962641 0.95846702 0.94223588 0.94215309\n",
      " 0.93842655 0.93867492 0.92202972 0.92989687 0.92592185 0.92352038\n",
      " 0.92178125 0.91615009 0.90232042 0.90637823 0.92136719 0.92136719\n",
      " 0.93254681 0.9534155  0.9597092  0.96194508 0.96509198 0.9669138\n",
      " 0.96525756 0.95854981 0.9597092  0.95374677 0.95167647 0.97933561\n",
      " 0.98032206 0.96098602 0.9477126  0.94136781 0.93748766 0.93426609\n",
      " 0.93111324 0.92790657 0.92466444 0.92141962 0.91818899 0.91497654\n",
      " 0.91178232 0.90860528 0.90544534 0.90230364 0.89918053 0.89607853\n",
      " 0.89299959 0.88994455 0.88691455 0.88391101 0.88093418 0.87798387\n",
      " 0.87506062 0.87216431 0.86929512 0.86645234]\n",
      "28 day output [[0.86363614]]\n",
      "29 day input [0.83956392 0.8334714  0.84102617 0.83883275 0.84825585 0.8419197\n",
      " 0.84963693 0.86758941 0.87059508 0.86157816 0.86888921 0.86620853\n",
      " 0.88481091 0.89650852 0.90390074 0.90130134 0.92331557 0.91844157\n",
      " 0.91064317 0.92607753 0.92039117 0.93192633 0.91551717 0.91340512\n",
      " 0.915436   0.92307195 0.92916448 0.93631298 0.93631298 0.91665452\n",
      " 0.91819795 0.92144725 0.92867693 0.93046418 0.9281084  0.93582553\n",
      " 0.95044753 0.94687333 0.9441405  0.94894363 0.95631392 0.95631392\n",
      " 0.95324982 0.95962641 0.95846702 0.94223588 0.94215309 0.93842655\n",
      " 0.93867492 0.92202972 0.92989687 0.92592185 0.92352038 0.92178125\n",
      " 0.91615009 0.90232042 0.90637823 0.92136719 0.92136719 0.93254681\n",
      " 0.9534155  0.9597092  0.96194508 0.96509198 0.9669138  0.96525756\n",
      " 0.95854981 0.9597092  0.95374677 0.95167647 0.97933561 0.98032206\n",
      " 0.96098602 0.9477126  0.94136781 0.93748766 0.93426609 0.93111324\n",
      " 0.92790657 0.92466444 0.92141962 0.91818899 0.91497654 0.91178232\n",
      " 0.90860528 0.90544534 0.90230364 0.89918053 0.89607853 0.89299959\n",
      " 0.88994455 0.88691455 0.88391101 0.88093418 0.87798387 0.87506062\n",
      " 0.87216431 0.86929512 0.86645234 0.86363614]\n",
      "29 day output [[0.8608456]]\n",
      "[[0.9803220629692078], [0.9609860181808472], [0.9477126002311707], [0.9413678050041199], [0.9374876618385315], [0.9342660903930664], [0.9311132431030273], [0.9279065728187561], [0.9246644377708435], [0.921419620513916], [0.9181889891624451], [0.9149765372276306], [0.9117823243141174], [0.9086052775382996], [0.9054453372955322], [0.9023036360740662], [0.89918053150177], [0.8960785269737244], [0.8929995894432068], [0.8899445533752441], [0.8869145512580872], [0.8839110136032104], [0.8809341788291931], [0.8779838681221008], [0.8750606179237366], [0.8721643090248108], [0.8692951202392578], [0.8664523363113403], [0.8636361360549927], [0.8608456254005432]]\n"
     ]
    }
   ],
   "source": [
    "# demonstrate prediction for next 10 days\n",
    "\n",
    "lst_output=[]\n",
    "n_steps=100\n",
    "i=0\n",
    "while(i<30):\n",
    "    \n",
    "    if(len(temp_input)>100):\n",
    "        #print(temp_input)\n",
    "        x_input=np.array(temp_input[1:])\n",
    "        print(\"{} day input {}\".format(i,x_input))\n",
    "        x_input=x_input.reshape(1,-1)\n",
    "        x_input = x_input.reshape((1, n_steps, 1))\n",
    "        #print(x_input)\n",
    "        yhat = model.predict(x_input, verbose=0)\n",
    "        print(\"{} day output {}\".format(i,yhat))\n",
    "        temp_input.extend(yhat[0].tolist())\n",
    "        temp_input=temp_input[1:]\n",
    "        #print(temp_input)\n",
    "        lst_output.extend(yhat.tolist())\n",
    "        i=i+1\n",
    "    else:\n",
    "        x_input = x_input.reshape((1, n_steps,1))\n",
    "        yhat = model.predict(x_input, verbose=0)\n",
    "        print(yhat[0])\n",
    "        temp_input.extend(yhat[0].tolist())\n",
    "        print(len(temp_input))\n",
    "        lst_output.extend(yhat.tolist())\n",
    "        i=i+1\n",
    "    \n",
    "\n",
    "print(lst_output)"
   ]
  },
  {
   "cell_type": "code",
   "execution_count": 27,
   "metadata": {},
   "outputs": [],
   "source": [
    "day_new=np.arange(1,101)\n",
    "day_pred=np.arange(101,131)"
   ]
  },
  {
   "cell_type": "code",
   "execution_count": 28,
   "metadata": {},
   "outputs": [
    {
     "data": {
      "text/plain": [
       "5619"
      ]
     },
     "execution_count": 28,
     "metadata": {},
     "output_type": "execute_result"
    }
   ],
   "source": [
    "len(df1)"
   ]
  },
  {
   "cell_type": "code",
   "execution_count": 29,
   "metadata": {},
   "outputs": [
    {
     "data": {
      "text/plain": [
       "[<matplotlib.lines.Line2D at 0x266b6a276d0>]"
      ]
     },
     "execution_count": 29,
     "metadata": {},
     "output_type": "execute_result"
    },
    {
     "data": {
      "image/png": "[encoded data removed]",
      "text/plain": [
       "<Figure size 432x288 with 1 Axes>"
      ]
     },
     "metadata": {
      "needs_background": "light"
     },
     "output_type": "display_data"
    }
   ],
   "source": [
    "plt.plot(day_new,scaler.inverse_transform(df1[len(df1)-100:]))\n",
    "plt.plot(day_pred,scaler.inverse_transform(lst_output))"
   ]
  },
  {
   "cell_type": "code",
   "execution_count": 30,
   "metadata": {},
   "outputs": [
    {
     "data": {
      "text/plain": [
       "[<matplotlib.lines.Line2D at 0x266b6a67190>]"
      ]
     },
     "execution_count": 30,
     "metadata": {},
     "output_type": "execute_result"
    },
    {
     "data": {
      "image/png": "[encoded data removed]",
      "text/plain": [
       "<Figure size 432x288 with 1 Axes>"
      ]
     },
     "metadata": {
      "needs_background": "light"
     },
     "output_type": "display_data"
    }
   ],
   "source": [
    "df3=df1.tolist()\n",
    "df3.extend(lst_output)\n",
    "plt.plot(df3[5500:])"
   ]
  },
  {
   "cell_type": "code",
   "execution_count": 31,
   "metadata": {},
   "outputs": [],
   "source": [
    "df3=scaler.inverse_transform(df3).tolist()"
   ]
  },
  {
   "cell_type": "code",
   "execution_count": 32,
   "metadata": {},
   "outputs": [
    {
     "data": {
      "text/plain": [
       "[<matplotlib.lines.Line2D at 0x266ba2b11f0>]"
      ]
     },
     "execution_count": 32,
     "metadata": {},
     "output_type": "execute_result"
    },
    {
     "data": {
      "image/png": "[encoded data removed]",
      "text/plain": [
       "<Figure size 432x288 with 1 Axes>"
      ]
     },
     "metadata": {
      "needs_background": "light"
     },
     "output_type": "display_data"
    }
   ],
   "source": [
    "plt.plot(df3)"
   ]
  },
  {
   "cell_type": "code",
   "execution_count": null,
   "metadata": {},
   "outputs": [],
   "source": []
  }
 ],
 "metadata": {
  "kernelspec": {
   "display_name": "Python 3",
   "language": "python",
   "name": "python3"
  },
  "language_info": {
   "codemirror_mode": {
    "name": "ipython",
    "version": 3
   },
   "file_extension": ".py",
   "mimetype": "text/x-python",
   "name": "python",
   "nbconvert_exporter": "python",
   "pygments_lexer": "ipython3",
   "version": "3.8.8"
  }
 },
 "nbformat": 4,
 "nbformat_minor": 2
}
